{
 "cells": [
  {
   "cell_type": "code",
   "execution_count": 25,
   "metadata": {
    "ExecuteTime": {
     "end_time": "2020-05-05T10:11:57.646121Z",
     "start_time": "2020-05-05T10:11:57.634185Z"
    }
   },
   "outputs": [
    {
     "data": {
      "text/html": [
       "<div>\n",
       "<style scoped>\n",
       "    .dataframe tbody tr th:only-of-type {\n",
       "        vertical-align: middle;\n",
       "    }\n",
       "\n",
       "    .dataframe tbody tr th {\n",
       "        vertical-align: top;\n",
       "    }\n",
       "\n",
       "    .dataframe thead th {\n",
       "        text-align: right;\n",
       "    }\n",
       "</style>\n",
       "<table border=\"1\" class=\"dataframe\">\n",
       "  <thead>\n",
       "    <tr style=\"text-align: right;\">\n",
       "      <th></th>\n",
       "      <th>rank_date</th>\n",
       "      <th>follower_count</th>\n",
       "      <th>add_follower_count</th>\n",
       "      <th>total_favorited</th>\n",
       "      <th>add_total_favorited</th>\n",
       "      <th>aweme_count</th>\n",
       "      <th>works_count</th>\n",
       "    </tr>\n",
       "  </thead>\n",
       "  <tbody>\n",
       "    <tr>\n",
       "      <th>0</th>\n",
       "      <td>2020-03-26</td>\n",
       "      <td>17015000</td>\n",
       "      <td>-6000.0</td>\n",
       "      <td>46441000</td>\n",
       "      <td>4000.0</td>\n",
       "      <td>71</td>\n",
       "      <td>0.0</td>\n",
       "    </tr>\n",
       "    <tr>\n",
       "      <th>1</th>\n",
       "      <td>2020-03-27</td>\n",
       "      <td>17010000</td>\n",
       "      <td>-5000.0</td>\n",
       "      <td>46445000</td>\n",
       "      <td>4000.0</td>\n",
       "      <td>71</td>\n",
       "      <td>0.0</td>\n",
       "    </tr>\n",
       "    <tr>\n",
       "      <th>2</th>\n",
       "      <td>2020-03-28</td>\n",
       "      <td>17004000</td>\n",
       "      <td>-6000.0</td>\n",
       "      <td>46450000</td>\n",
       "      <td>5000.0</td>\n",
       "      <td>71</td>\n",
       "      <td>0.0</td>\n",
       "    </tr>\n",
       "    <tr>\n",
       "      <th>3</th>\n",
       "      <td>2020-03-29</td>\n",
       "      <td>17004000</td>\n",
       "      <td>0.0</td>\n",
       "      <td>46470000</td>\n",
       "      <td>20000.0</td>\n",
       "      <td>71</td>\n",
       "      <td>0.0</td>\n",
       "    </tr>\n",
       "    <tr>\n",
       "      <th>4</th>\n",
       "      <td>2020-03-30</td>\n",
       "      <td>17025000</td>\n",
       "      <td>21000.0</td>\n",
       "      <td>46828000</td>\n",
       "      <td>358000.0</td>\n",
       "      <td>72</td>\n",
       "      <td>1.0</td>\n",
       "    </tr>\n",
       "  </tbody>\n",
       "</table>\n",
       "</div>"
      ],
      "text/plain": [
       "    rank_date  follower_count  add_follower_count  total_favorited  \\\n",
       "0  2020-03-26        17015000             -6000.0         46441000   \n",
       "1  2020-03-27        17010000             -5000.0         46445000   \n",
       "2  2020-03-28        17004000             -6000.0         46450000   \n",
       "3  2020-03-29        17004000                 0.0         46470000   \n",
       "4  2020-03-30        17025000             21000.0         46828000   \n",
       "\n",
       "   add_total_favorited  aweme_count  works_count  \n",
       "0               4000.0           71          0.0  \n",
       "1               4000.0           71          0.0  \n",
       "2               5000.0           71          0.0  \n",
       "3              20000.0           71          0.0  \n",
       "4             358000.0           72          1.0  "
      ]
     },
     "execution_count": 25,
     "metadata": {},
     "output_type": "execute_result"
    }
   ],
   "source": [
    "import pandas as pd\n",
    "df = pd.read_csv('douyin_trend.csv')\n",
    "df.head()"
   ]
  },
  {
   "cell_type": "code",
   "execution_count": 26,
   "metadata": {
    "ExecuteTime": {
     "end_time": "2020-05-05T10:11:58.261249Z",
     "start_time": "2020-05-05T10:11:58.250276Z"
    }
   },
   "outputs": [
    {
     "data": {
      "text/html": [
       "<div>\n",
       "<style scoped>\n",
       "    .dataframe tbody tr th:only-of-type {\n",
       "        vertical-align: middle;\n",
       "    }\n",
       "\n",
       "    .dataframe tbody tr th {\n",
       "        vertical-align: top;\n",
       "    }\n",
       "\n",
       "    .dataframe thead th {\n",
       "        text-align: right;\n",
       "    }\n",
       "</style>\n",
       "<table border=\"1\" class=\"dataframe\">\n",
       "  <thead>\n",
       "    <tr style=\"text-align: right;\">\n",
       "      <th></th>\n",
       "      <th>follower_count</th>\n",
       "      <th>add_follower_count</th>\n",
       "      <th>total_favorited</th>\n",
       "      <th>add_total_favorited</th>\n",
       "      <th>aweme_count</th>\n",
       "      <th>works_count</th>\n",
       "    </tr>\n",
       "    <tr>\n",
       "      <th>rank_date</th>\n",
       "      <th></th>\n",
       "      <th></th>\n",
       "      <th></th>\n",
       "      <th></th>\n",
       "      <th></th>\n",
       "      <th></th>\n",
       "    </tr>\n",
       "  </thead>\n",
       "  <tbody>\n",
       "    <tr>\n",
       "      <th>2020-03-26</th>\n",
       "      <td>17015000</td>\n",
       "      <td>-6000.0</td>\n",
       "      <td>46441000</td>\n",
       "      <td>4000.0</td>\n",
       "      <td>71</td>\n",
       "      <td>0.0</td>\n",
       "    </tr>\n",
       "    <tr>\n",
       "      <th>2020-03-27</th>\n",
       "      <td>17010000</td>\n",
       "      <td>-5000.0</td>\n",
       "      <td>46445000</td>\n",
       "      <td>4000.0</td>\n",
       "      <td>71</td>\n",
       "      <td>0.0</td>\n",
       "    </tr>\n",
       "    <tr>\n",
       "      <th>2020-03-28</th>\n",
       "      <td>17004000</td>\n",
       "      <td>-6000.0</td>\n",
       "      <td>46450000</td>\n",
       "      <td>5000.0</td>\n",
       "      <td>71</td>\n",
       "      <td>0.0</td>\n",
       "    </tr>\n",
       "    <tr>\n",
       "      <th>2020-03-29</th>\n",
       "      <td>17004000</td>\n",
       "      <td>0.0</td>\n",
       "      <td>46470000</td>\n",
       "      <td>20000.0</td>\n",
       "      <td>71</td>\n",
       "      <td>0.0</td>\n",
       "    </tr>\n",
       "    <tr>\n",
       "      <th>2020-03-30</th>\n",
       "      <td>17025000</td>\n",
       "      <td>21000.0</td>\n",
       "      <td>46828000</td>\n",
       "      <td>358000.0</td>\n",
       "      <td>72</td>\n",
       "      <td>1.0</td>\n",
       "    </tr>\n",
       "  </tbody>\n",
       "</table>\n",
       "</div>"
      ],
      "text/plain": [
       "            follower_count  add_follower_count  total_favorited  \\\n",
       "rank_date                                                         \n",
       "2020-03-26        17015000             -6000.0         46441000   \n",
       "2020-03-27        17010000             -5000.0         46445000   \n",
       "2020-03-28        17004000             -6000.0         46450000   \n",
       "2020-03-29        17004000                 0.0         46470000   \n",
       "2020-03-30        17025000             21000.0         46828000   \n",
       "\n",
       "            add_total_favorited  aweme_count  works_count  \n",
       "rank_date                                                  \n",
       "2020-03-26               4000.0           71          0.0  \n",
       "2020-03-27               4000.0           71          0.0  \n",
       "2020-03-28               5000.0           71          0.0  \n",
       "2020-03-29              20000.0           71          0.0  \n",
       "2020-03-30             358000.0           72          1.0  "
      ]
     },
     "execution_count": 26,
     "metadata": {},
     "output_type": "execute_result"
    }
   ],
   "source": [
    "#将rank_data列转为时间序列类型\n",
    "df['rank_date'] = pd.to_datetime(df['rank_date'])\n",
    "#将date列作为原数据的行索引\n",
    "df.set_index(df['rank_date'], inplace=True)\n",
    "df.drop(labels='rank_date', axis=1, inplace=True)\n",
    "df.head()"
   ]
  },
  {
   "cell_type": "code",
   "execution_count": 27,
   "metadata": {
    "ExecuteTime": {
     "end_time": "2020-05-05T10:11:59.078368Z",
     "start_time": "2020-05-05T10:11:59.066400Z"
    }
   },
   "outputs": [
    {
     "ename": "AttributeError",
     "evalue": "'DataFrame' object has no attribute 'rank_date'",
     "output_type": "error",
     "traceback": [
      "\u001b[1;31m---------------------------------------------------------------------------\u001b[0m",
      "\u001b[1;31mAttributeError\u001b[0m                            Traceback (most recent call last)",
      "\u001b[1;32m<ipython-input-27-3d08b91fb0a5>\u001b[0m in \u001b[0;36m<module>\u001b[1;34m\u001b[0m\n\u001b[0;32m      2\u001b[0m \u001b[0mline\u001b[0m \u001b[1;33m=\u001b[0m \u001b[0mLine\u001b[0m\u001b[1;33m(\u001b[0m\u001b[1;33m)\u001b[0m\u001b[1;33m\u001b[0m\u001b[1;33m\u001b[0m\u001b[0m\n\u001b[0;32m      3\u001b[0m \u001b[0mlabels\u001b[0m \u001b[1;33m=\u001b[0m \u001b[1;33m[\u001b[0m\u001b[1;33m]\u001b[0m\u001b[1;33m\u001b[0m\u001b[1;33m\u001b[0m\u001b[0m\n\u001b[1;32m----> 4\u001b[1;33m \u001b[1;32mfor\u001b[0m \u001b[0mx\u001b[0m \u001b[1;32min\u001b[0m \u001b[0mdf\u001b[0m\u001b[1;33m.\u001b[0m\u001b[0mrank_date\u001b[0m\u001b[1;33m:\u001b[0m\u001b[1;33m\u001b[0m\u001b[1;33m\u001b[0m\u001b[0m\n\u001b[0m\u001b[0;32m      5\u001b[0m     \u001b[0mlabels\u001b[0m\u001b[1;33m.\u001b[0m\u001b[0mappend\u001b[0m\u001b[1;33m(\u001b[0m\u001b[0mx\u001b[0m\u001b[1;33m)\u001b[0m\u001b[1;33m\u001b[0m\u001b[1;33m\u001b[0m\u001b[0m\n\u001b[0;32m      6\u001b[0m \u001b[0msizes\u001b[0m \u001b[1;33m=\u001b[0m \u001b[1;33m[\u001b[0m\u001b[1;33m]\u001b[0m\u001b[1;33m\u001b[0m\u001b[1;33m\u001b[0m\u001b[0m\n",
      "\u001b[1;32mD:\\Anaconda3\\lib\\site-packages\\pandas\\core\\generic.py\u001b[0m in \u001b[0;36m__getattr__\u001b[1;34m(self, name)\u001b[0m\n\u001b[0;32m   5272\u001b[0m             \u001b[1;32mif\u001b[0m \u001b[0mself\u001b[0m\u001b[1;33m.\u001b[0m\u001b[0m_info_axis\u001b[0m\u001b[1;33m.\u001b[0m\u001b[0m_can_hold_identifiers_and_holds_name\u001b[0m\u001b[1;33m(\u001b[0m\u001b[0mname\u001b[0m\u001b[1;33m)\u001b[0m\u001b[1;33m:\u001b[0m\u001b[1;33m\u001b[0m\u001b[1;33m\u001b[0m\u001b[0m\n\u001b[0;32m   5273\u001b[0m                 \u001b[1;32mreturn\u001b[0m \u001b[0mself\u001b[0m\u001b[1;33m[\u001b[0m\u001b[0mname\u001b[0m\u001b[1;33m]\u001b[0m\u001b[1;33m\u001b[0m\u001b[1;33m\u001b[0m\u001b[0m\n\u001b[1;32m-> 5274\u001b[1;33m             \u001b[1;32mreturn\u001b[0m \u001b[0mobject\u001b[0m\u001b[1;33m.\u001b[0m\u001b[0m__getattribute__\u001b[0m\u001b[1;33m(\u001b[0m\u001b[0mself\u001b[0m\u001b[1;33m,\u001b[0m \u001b[0mname\u001b[0m\u001b[1;33m)\u001b[0m\u001b[1;33m\u001b[0m\u001b[1;33m\u001b[0m\u001b[0m\n\u001b[0m\u001b[0;32m   5275\u001b[0m \u001b[1;33m\u001b[0m\u001b[0m\n\u001b[0;32m   5276\u001b[0m     \u001b[1;32mdef\u001b[0m \u001b[0m__setattr__\u001b[0m\u001b[1;33m(\u001b[0m\u001b[0mself\u001b[0m\u001b[1;33m,\u001b[0m \u001b[0mname\u001b[0m\u001b[1;33m:\u001b[0m \u001b[0mstr\u001b[0m\u001b[1;33m,\u001b[0m \u001b[0mvalue\u001b[0m\u001b[1;33m)\u001b[0m \u001b[1;33m->\u001b[0m \u001b[1;32mNone\u001b[0m\u001b[1;33m:\u001b[0m\u001b[1;33m\u001b[0m\u001b[1;33m\u001b[0m\u001b[0m\n",
      "\u001b[1;31mAttributeError\u001b[0m: 'DataFrame' object has no attribute 'rank_date'"
     ]
    }
   ],
   "source": [
    "from pyecharts.charts import Line\n",
    "line = Line()\n",
    "labels = []\n",
    "for x in df.rank_date:\n",
    "    labels.append(x)\n",
    "sizes = []\n",
    "for y in df.follower_count:\n",
    "    sizes.append(y)\n",
    "line.add_xaxis(labels)\n",
    "line.add_yaxis(\"粉丝总量\", sizes)\n",
    "line.render()\n"
   ]
  },
  {
   "cell_type": "code",
   "execution_count": 8,
   "metadata": {
    "ExecuteTime": {
     "end_time": "2020-04-25T15:24:12.330661Z",
     "start_time": "2020-04-25T15:24:12.208987Z"
    }
   },
   "outputs": [
    {
     "data": {
      "text/plain": [
       "[<matplotlib.lines.Line2D at 0x197a16742c8>]"
      ]
     },
     "execution_count": 8,
     "metadata": {},
     "output_type": "execute_result"
    },
    {
     "data": {
      "image/png": "[encoded data removed]",
      "text/plain": [
       "<Figure size 432x288 with 1 Axes>"
      ]
     },
     "metadata": {
      "needs_background": "light"
     },
     "output_type": "display_data"
    }
   ],
   "source": [
    "#粉丝总量\n",
    "import matplotlib.pyplot as plt\n",
    "plt.plot(df.index,df['follower_count'],c='red')"
   ]
  },
  {
   "cell_type": "code",
   "execution_count": 9,
   "metadata": {
    "ExecuteTime": {
     "end_time": "2020-04-25T15:25:56.242876Z",
     "start_time": "2020-04-25T15:25:56.137093Z"
    }
   },
   "outputs": [
    {
     "data": {
      "text/plain": [
       "[<matplotlib.lines.Line2D at 0x197a1669448>]"
      ]
     },
     "execution_count": 9,
     "metadata": {},
     "output_type": "execute_result"
    },
    {
     "data": {
      "image/png": "[encoded data removed]",
      "text/plain": [
       "<Figure size 432x288 with 1 Axes>"
      ]
     },
     "metadata": {
      "needs_background": "light"
     },
     "output_type": "display_data"
    }
   ],
   "source": [
    "#粉丝增量\n",
    "plt.plot(df.index,df['add_follower_count'],c='blue')"
   ]
  },
  {
   "cell_type": "code",
   "execution_count": 10,
   "metadata": {
    "ExecuteTime": {
     "end_time": "2020-04-25T15:27:38.215489Z",
     "start_time": "2020-04-25T15:27:38.096807Z"
    }
   },
   "outputs": [
    {
     "data": {
      "text/plain": [
       "[<matplotlib.lines.Line2D at 0x197a16fe988>]"
      ]
     },
     "execution_count": 10,
     "metadata": {},
     "output_type": "execute_result"
    },
    {
     "data": {
      "image/png": "[encoded data removed]",
      "text/plain": [
       "<Figure size 432x288 with 1 Axes>"
      ]
     },
     "metadata": {
      "needs_background": "light"
     },
     "output_type": "display_data"
    }
   ],
   "source": [
    "#获赞总量\n",
    "plt.plot(df.index,df['total_favorited'],c='blue')"
   ]
  },
  {
   "cell_type": "code",
   "execution_count": 11,
   "metadata": {
    "ExecuteTime": {
     "end_time": "2020-04-25T15:28:20.659007Z",
     "start_time": "2020-04-25T15:28:20.537305Z"
    }
   },
   "outputs": [
    {
     "data": {
      "text/plain": [
       "[<matplotlib.lines.Line2D at 0x197a17cfc08>]"
      ]
     },
     "execution_count": 11,
     "metadata": {},
     "output_type": "execute_result"
    },
    {
     "data": {
      "image/png": "[encoded data removed]",
      "text/plain": [
       "<Figure size 432x288 with 1 Axes>"
      ]
     },
     "metadata": {
      "needs_background": "light"
     },
     "output_type": "display_data"
    }
   ],
   "source": [
    "#获赞增量\n",
    "plt.plot(df.index,df['add_total_favorited'],c='blue')"
   ]
  },
  {
   "cell_type": "code",
   "execution_count": 12,
   "metadata": {
    "ExecuteTime": {
     "end_time": "2020-04-25T15:29:08.250928Z",
     "start_time": "2020-04-25T15:29:08.144243Z"
    }
   },
   "outputs": [
    {
     "data": {
      "text/plain": [
       "[<matplotlib.lines.Line2D at 0x197a281d048>]"
      ]
     },
     "execution_count": 12,
     "metadata": {},
     "output_type": "execute_result"
    },
    {
     "data": {
      "image/png": "[encoded data removed]",
      "text/plain": [
       "<Figure size 432x288 with 1 Axes>"
      ]
     },
     "metadata": {
      "needs_background": "light"
     },
     "output_type": "display_data"
    }
   ],
   "source": [
    "#作品总量\n",
    "plt.plot(df.index,df['aweme_count'],c='blue')"
   ]
  },
  {
   "cell_type": "code",
   "execution_count": 13,
   "metadata": {
    "ExecuteTime": {
     "end_time": "2020-04-25T15:29:41.264215Z",
     "start_time": "2020-04-25T15:29:41.152894Z"
    }
   },
   "outputs": [
    {
     "data": {
      "text/plain": [
       "[<matplotlib.lines.Line2D at 0x197a2b34408>]"
      ]
     },
     "execution_count": 13,
     "metadata": {},
     "output_type": "execute_result"
    },
    {
     "data": {
      "image/png": "[encoded data removed]",
      "text/plain": [
       "<Figure size 432x288 with 1 Axes>"
      ]
     },
     "metadata": {
      "needs_background": "light"
     },
     "output_type": "display_data"
    }
   ],
   "source": [
    "#作品增量\n",
    "plt.plot(df.index,df['works_count'],c='blue')"
   ]
  },
  {
   "cell_type": "code",
   "execution_count": 1,
   "metadata": {
    "ExecuteTime": {
     "end_time": "2020-04-26T06:04:35.039084Z",
     "start_time": "2020-04-26T06:04:34.707970Z"
    }
   },
   "outputs": [
    {
     "data": {
      "text/html": [
       "<div>\n",
       "<style scoped>\n",
       "    .dataframe tbody tr th:only-of-type {\n",
       "        vertical-align: middle;\n",
       "    }\n",
       "\n",
       "    .dataframe tbody tr th {\n",
       "        vertical-align: top;\n",
       "    }\n",
       "\n",
       "    .dataframe thead th {\n",
       "        text-align: right;\n",
       "    }\n",
       "</style>\n",
       "<table border=\"1\" class=\"dataframe\">\n",
       "  <thead>\n",
       "    <tr style=\"text-align: right;\">\n",
       "      <th></th>\n",
       "      <th>range</th>\n",
       "      <th>range_rate</th>\n",
       "    </tr>\n",
       "  </thead>\n",
       "  <tbody>\n",
       "    <tr>\n",
       "      <th>0</th>\n",
       "      <td>18-23</td>\n",
       "      <td>40.57</td>\n",
       "    </tr>\n",
       "    <tr>\n",
       "      <th>1</th>\n",
       "      <td>&lt;18</td>\n",
       "      <td>36.28</td>\n",
       "    </tr>\n",
       "    <tr>\n",
       "      <th>2</th>\n",
       "      <td>24-30</td>\n",
       "      <td>14.63</td>\n",
       "    </tr>\n",
       "    <tr>\n",
       "      <th>3</th>\n",
       "      <td>31-40</td>\n",
       "      <td>5.17</td>\n",
       "    </tr>\n",
       "    <tr>\n",
       "      <th>4</th>\n",
       "      <td>&gt;50</td>\n",
       "      <td>2.31</td>\n",
       "    </tr>\n",
       "  </tbody>\n",
       "</table>\n",
       "</div>"
      ],
      "text/plain": [
       "   range  range_rate\n",
       "0  18-23       40.57\n",
       "1    <18       36.28\n",
       "2  24-30       14.63\n",
       "3  31-40        5.17\n",
       "4    >50        2.31"
      ]
     },
     "execution_count": 1,
     "metadata": {},
     "output_type": "execute_result"
    }
   ],
   "source": [
    "import pandas as pd\n",
    "dp = pd.read_csv('douyin_fans_age.csv')\n",
    "dp.head()\n"
   ]
  },
  {
   "cell_type": "code",
   "execution_count": 2,
   "metadata": {
    "ExecuteTime": {
     "end_time": "2020-04-26T06:04:35.887197Z",
     "start_time": "2020-04-26T06:04:35.879179Z"
    }
   },
   "outputs": [
    {
     "data": {
      "text/html": [
       "<div>\n",
       "<style scoped>\n",
       "    .dataframe tbody tr th:only-of-type {\n",
       "        vertical-align: middle;\n",
       "    }\n",
       "\n",
       "    .dataframe tbody tr th {\n",
       "        vertical-align: top;\n",
       "    }\n",
       "\n",
       "    .dataframe thead th {\n",
       "        text-align: right;\n",
       "    }\n",
       "</style>\n",
       "<table border=\"1\" class=\"dataframe\">\n",
       "  <thead>\n",
       "    <tr style=\"text-align: right;\">\n",
       "      <th></th>\n",
       "      <th>age_range</th>\n",
       "      <th>range_rate</th>\n",
       "    </tr>\n",
       "  </thead>\n",
       "  <tbody>\n",
       "    <tr>\n",
       "      <th>0</th>\n",
       "      <td>18-23</td>\n",
       "      <td>40.57</td>\n",
       "    </tr>\n",
       "    <tr>\n",
       "      <th>1</th>\n",
       "      <td>&lt;18</td>\n",
       "      <td>36.28</td>\n",
       "    </tr>\n",
       "    <tr>\n",
       "      <th>2</th>\n",
       "      <td>24-30</td>\n",
       "      <td>14.63</td>\n",
       "    </tr>\n",
       "    <tr>\n",
       "      <th>3</th>\n",
       "      <td>31-40</td>\n",
       "      <td>5.17</td>\n",
       "    </tr>\n",
       "    <tr>\n",
       "      <th>4</th>\n",
       "      <td>&gt;50</td>\n",
       "      <td>2.31</td>\n",
       "    </tr>\n",
       "  </tbody>\n",
       "</table>\n",
       "</div>"
      ],
      "text/plain": [
       "  age_range  range_rate\n",
       "0     18-23       40.57\n",
       "1       <18       36.28\n",
       "2     24-30       14.63\n",
       "3     31-40        5.17\n",
       "4       >50        2.31"
      ]
     },
     "execution_count": 2,
     "metadata": {},
     "output_type": "execute_result"
    }
   ],
   "source": [
    "dp.rename(columns={'range':'age_range'}, inplace = True)\n",
    "dp.head()"
   ]
  },
  {
   "cell_type": "code",
   "execution_count": 3,
   "metadata": {
    "ExecuteTime": {
     "end_time": "2020-04-26T06:04:37.075018Z",
     "start_time": "2020-04-26T06:04:36.806737Z"
    }
   },
   "outputs": [
    {
     "name": "stderr",
     "output_type": "stream",
     "text": [
      "\n",
      "Bad key \"text.kerning_factor\" on line 4 in\n",
      "D:\\Anaconda3\\lib\\site-packages\\matplotlib\\mpl-data\\stylelib\\_classic_test_patch.mplstyle.\n",
      "You probably need to get an updated matplotlibrc file from\n",
      "https://github.com/matplotlib/matplotlib/blob/v3.1.3/matplotlibrc.template\n",
      "or from the matplotlib source distribution\n"
     ]
    },
    {
     "data": {
      "image/png": "[encoded data removed]",
      "text/plain": [
       "<Figure size 432x648 with 1 Axes>"
      ]
     },
     "metadata": {},
     "output_type": "display_data"
    }
   ],
   "source": [
    "import matplotlib.pyplot as plt\n",
    "plt.rcParams['font.sans-serif']=['SimHei'] #用来正常显示中文标签\n",
    "plt.figure(figsize=(6,9)) #调节图形大小\n",
    "explode = (0,0,0.02,0,0,0) #将某一块分割出来，值越大分割出的间隙越大\n",
    "labels = []\n",
    "for x in dp.age_range:\n",
    "    labels.append(x)\n",
    "sizes = []\n",
    "for y in dp.range_rate:\n",
    "    sizes.append(y)\n",
    "plt.pie(sizes,explode=explode,labels=labels,shadow=False,startangle=150)\n",
    "plt.title(\"粉丝分布\")\n",
    "plt.show()"
   ]
  },
  {
   "cell_type": "code",
   "execution_count": 31,
   "metadata": {
    "ExecuteTime": {
     "end_time": "2020-05-05T10:20:37.427080Z",
     "start_time": "2020-05-05T10:20:37.419075Z"
    }
   },
   "outputs": [
    {
     "data": {
      "text/html": [
       "<div>\n",
       "<style scoped>\n",
       "    .dataframe tbody tr th:only-of-type {\n",
       "        vertical-align: middle;\n",
       "    }\n",
       "\n",
       "    .dataframe tbody tr th {\n",
       "        vertical-align: top;\n",
       "    }\n",
       "\n",
       "    .dataframe thead th {\n",
       "        text-align: right;\n",
       "    }\n",
       "</style>\n",
       "<table border=\"1\" class=\"dataframe\">\n",
       "  <thead>\n",
       "    <tr style=\"text-align: right;\">\n",
       "      <th></th>\n",
       "      <th>province</th>\n",
       "      <th>province_rate</th>\n",
       "    </tr>\n",
       "  </thead>\n",
       "  <tbody>\n",
       "    <tr>\n",
       "      <th>0</th>\n",
       "      <td>广东</td>\n",
       "      <td>14.64</td>\n",
       "    </tr>\n",
       "    <tr>\n",
       "      <th>1</th>\n",
       "      <td>浙江</td>\n",
       "      <td>6.27</td>\n",
       "    </tr>\n",
       "    <tr>\n",
       "      <th>2</th>\n",
       "      <td>河南</td>\n",
       "      <td>5.97</td>\n",
       "    </tr>\n",
       "    <tr>\n",
       "      <th>3</th>\n",
       "      <td>江苏</td>\n",
       "      <td>5.77</td>\n",
       "    </tr>\n",
       "    <tr>\n",
       "      <th>4</th>\n",
       "      <td>四川</td>\n",
       "      <td>5.37</td>\n",
       "    </tr>\n",
       "  </tbody>\n",
       "</table>\n",
       "</div>"
      ],
      "text/plain": [
       "  province  province_rate\n",
       "0       广东          14.64\n",
       "1       浙江           6.27\n",
       "2       河南           5.97\n",
       "3       江苏           5.77\n",
       "4       四川           5.37"
      ]
     },
     "execution_count": 31,
     "metadata": {},
     "output_type": "execute_result"
    }
   ],
   "source": [
    "dl = pd.read_csv('douyin_fans_range.csv')\n",
    "dl.head()\n"
   ]
  },
  {
   "cell_type": "code",
   "execution_count": 38,
   "metadata": {
    "ExecuteTime": {
     "end_time": "2020-05-05T10:30:25.777097Z",
     "start_time": "2020-05-05T10:30:25.770113Z"
    }
   },
   "outputs": [
    {
     "data": {
      "text/html": [
       "\n",
       "<script>\n",
       "    require.config({\n",
       "        paths: {\n",
       "            'echarts':'https://assets.pyecharts.org/assets/echarts.min'\n",
       "        }\n",
       "    });\n",
       "</script>\n",
       "\n",
       "        <div id=\"4b06e5d54f094fba949d85ac330ed3ed\" style=\"width:900px; height:500px;\"></div>\n",
       "\n",
       "<script>\n",
       "        require(['echarts'], function(echarts) {\n",
       "                var chart_4b06e5d54f094fba949d85ac330ed3ed = echarts.init(\n",
       "                    document.getElementById('4b06e5d54f094fba949d85ac330ed3ed'), 'white', {renderer: 'canvas'});\n",
       "                var option_4b06e5d54f094fba949d85ac330ed3ed = {\n",
       "    \"animation\": true,\n",
       "    \"animationThreshold\": 2000,\n",
       "    \"animationDuration\": 1000,\n",
       "    \"animationEasing\": \"cubicOut\",\n",
       "    \"animationDelay\": 0,\n",
       "    \"animationDurationUpdate\": 300,\n",
       "    \"animationEasingUpdate\": \"cubicOut\",\n",
       "    \"animationDelayUpdate\": 0,\n",
       "    \"color\": [\n",
       "        \"#c23531\",\n",
       "        \"#2f4554\",\n",
       "        \"#61a0a8\",\n",
       "        \"#d48265\",\n",
       "        \"#749f83\",\n",
       "        \"#ca8622\",\n",
       "        \"#bda29a\",\n",
       "        \"#6e7074\",\n",
       "        \"#546570\",\n",
       "        \"#c4ccd3\",\n",
       "        \"#f05b72\",\n",
       "        \"#ef5b9c\",\n",
       "        \"#f47920\",\n",
       "        \"#905a3d\",\n",
       "        \"#fab27b\",\n",
       "        \"#2a5caa\",\n",
       "        \"#444693\",\n",
       "        \"#726930\",\n",
       "        \"#b2d235\",\n",
       "        \"#6d8346\",\n",
       "        \"#ac6767\",\n",
       "        \"#1d953f\",\n",
       "        \"#6950a1\",\n",
       "        \"#918597\"\n",
       "    ],\n",
       "    \"series\": [\n",
       "        {\n",
       "            \"type\": \"bar\",\n",
       "            \"name\": \"\\u5730\\u533a\\u5206\\u5e03\\u5360\\u6bd4\",\n",
       "            \"data\": [\n",
       "                14.64,\n",
       "                6.27,\n",
       "                5.97,\n",
       "                5.77,\n",
       "                5.37,\n",
       "                4.68,\n",
       "                4.18,\n",
       "                3.88,\n",
       "                3.48,\n",
       "                3.18,\n",
       "                3.18,\n",
       "                3.08,\n",
       "                2.98,\n",
       "                2.98,\n",
       "                2.88,\n",
       "                2.39,\n",
       "                2.39,\n",
       "                2.29,\n",
       "                2.19,\n",
       "                1.89,\n",
       "                1.69,\n",
       "                1.59,\n",
       "                1.39,\n",
       "                1.29,\n",
       "                1.19,\n",
       "                1.09,\n",
       "                0.99,\n",
       "                0.79,\n",
       "                0.39,\n",
       "                0.29,\n",
       "                0.19,\n",
       "                0.19,\n",
       "                0.19,\n",
       "                0.19,\n",
       "                0.19,\n",
       "                0.19,\n",
       "                0.19,\n",
       "                0.19,\n",
       "                0.19,\n",
       "                0.19,\n",
       "                0.09,\n",
       "                0.09,\n",
       "                0.09,\n",
       "                0.09,\n",
       "                0.09,\n",
       "                0.09,\n",
       "                0.09,\n",
       "                0.09,\n",
       "                0.09,\n",
       "                0.09,\n",
       "                0.09,\n",
       "                0.09,\n",
       "                0.09,\n",
       "                0.09,\n",
       "                0.09,\n",
       "                0.09,\n",
       "                0.09,\n",
       "                0.09,\n",
       "                0.09,\n",
       "                0.09,\n",
       "                0.09,\n",
       "                0.09,\n",
       "                0.09,\n",
       "                0.09,\n",
       "                0.09,\n",
       "                0.09,\n",
       "                0.09,\n",
       "                0.09,\n",
       "                0.09,\n",
       "                0.09,\n",
       "                0.09,\n",
       "                0.09,\n",
       "                0.09,\n",
       "                0.09,\n",
       "                0.09\n",
       "            ],\n",
       "            \"barCategoryGap\": \"20%\",\n",
       "            \"label\": {\n",
       "                \"show\": true,\n",
       "                \"position\": \"top\",\n",
       "                \"margin\": 8\n",
       "            }\n",
       "        }\n",
       "    ],\n",
       "    \"legend\": [\n",
       "        {\n",
       "            \"data\": [\n",
       "                \"\\u5730\\u533a\\u5206\\u5e03\\u5360\\u6bd4\"\n",
       "            ],\n",
       "            \"selected\": {\n",
       "                \"\\u5730\\u533a\\u5206\\u5e03\\u5360\\u6bd4\": true\n",
       "            }\n",
       "        }\n",
       "    ],\n",
       "    \"tooltip\": {\n",
       "        \"show\": true,\n",
       "        \"trigger\": \"item\",\n",
       "        \"triggerOn\": \"mousemove|click\",\n",
       "        \"axisPointer\": {\n",
       "            \"type\": \"line\"\n",
       "        },\n",
       "        \"textStyle\": {\n",
       "            \"fontSize\": 14\n",
       "        },\n",
       "        \"borderWidth\": 0\n",
       "    },\n",
       "    \"xAxis\": [\n",
       "        {\n",
       "            \"show\": true,\n",
       "            \"scale\": false,\n",
       "            \"nameLocation\": \"end\",\n",
       "            \"nameGap\": 15,\n",
       "            \"gridIndex\": 0,\n",
       "            \"inverse\": false,\n",
       "            \"offset\": 0,\n",
       "            \"splitNumber\": 5,\n",
       "            \"minInterval\": 0,\n",
       "            \"splitLine\": {\n",
       "                \"show\": false,\n",
       "                \"lineStyle\": {\n",
       "                    \"show\": true,\n",
       "                    \"width\": 1,\n",
       "                    \"opacity\": 1,\n",
       "                    \"curveness\": 0,\n",
       "                    \"type\": \"solid\"\n",
       "                }\n",
       "            },\n",
       "            \"data\": [\n",
       "                \"\\u5e7f\\u4e1c\",\n",
       "                \"\\u6d59\\u6c5f\",\n",
       "                \"\\u6cb3\\u5357\",\n",
       "                \"\\u6c5f\\u82cf\",\n",
       "                \"\\u56db\\u5ddd\",\n",
       "                \"\\u5c71\\u4e1c\",\n",
       "                \"\\u6e56\\u5357\",\n",
       "                \"\\u5e7f\\u897f\",\n",
       "                \"\\u6cb3\\u5317\",\n",
       "                \"\\u5b89\\u5fbd\",\n",
       "                \"\\u8d35\\u5dde\",\n",
       "                \"\\u9655\\u897f\",\n",
       "                \"\\u6e56\\u5317\",\n",
       "                \"\\u798f\\u5efa\",\n",
       "                \"\\u5c71\\u897f\",\n",
       "                \"\\u8fbd\\u5b81\",\n",
       "                \"\\u91cd\\u5e86\",\n",
       "                \"\\u6c5f\\u897f\",\n",
       "                \"\\u4e91\\u5357\",\n",
       "                \"\\u9ed1\\u9f99\\u6c5f\",\n",
       "                \"\\u65b0\\u7586\",\n",
       "                \"\\u5317\\u4eac\",\n",
       "                \"\\u5409\\u6797\",\n",
       "                \"\\u4e0a\\u6d77\",\n",
       "                \"\\u7518\\u8083\",\n",
       "                \"\\u5185\\u8499\\u53e4\",\n",
       "                \"\\u5929\\u6d25\",\n",
       "                \"\\u6d77\\u5357\",\n",
       "                \"\\u52a0\\u5229\\u798f\\u5c3c\\u4e9a\\u5dde\",\n",
       "                \"\\u5b81\\u590f\",\n",
       "                \"Perak\",\n",
       "                \"Selangor\",\n",
       "                \"\\u4e0d\\u5217\\u98a0\\u54e5\\u4f26\\u6bd4\\u4e9a\",\n",
       "                \"\\u53f0\\u6e7e\",\n",
       "                \"\\u5b89\\u5927\\u7565\",\n",
       "                \"\\u6606\\u58eb\\u5170\",\n",
       "                \"\\u7ef4\\u591a\\u5229\\u4e9a\",\n",
       "                \"\\u897f\\u85cf\",\n",
       "                \"\\u9996\\u5c14\",\n",
       "                \"\\u9999\\u6e2f\",\n",
       "                \"An Giang\",\n",
       "                \"Bourgogne-Franche-Comt\\u00e9\",\n",
       "                \"Chiba-ken\",\n",
       "                \"Daerah Khusus Ibukota Jakarta\",\n",
       "                \"East\",\n",
       "                \"Kanagawa\",\n",
       "                \"MP\",\n",
       "                \"Massachusetts\",\n",
       "                \"North East\",\n",
       "                \"ON\",\n",
       "                \"Pahang\",\n",
       "                \"T\\u1ec9nh L\\u1ea1ng S\\u01a1n\",\n",
       "                \"T\\u1ec9nh Thanh H\\u00f3a\",\n",
       "                \"Wales\",\n",
       "                \"\\u51ef\\u91cc\",\n",
       "                \"\\u5317\\u6d77\\u9053\",\n",
       "                \"\\u5317\\u90e8\\u5730\\u533a\",\n",
       "                \"\\u5361\\u5bbe\\u8fbe\",\n",
       "                \"\\u5409\\u6253\",\n",
       "                \"\\u582a\\u57f9\\u62c9\",\n",
       "                \"\\u5965\\u6cd5\\u5229\",\n",
       "                \"\\u5df4\\u9ece\",\n",
       "                \"\\u5e03\\u5c14\\u6839\\u5170\",\n",
       "                \"\\u6556\\u5fb7\\u8428\\u5dde\",\n",
       "                \"\\u65b0\\u7f55\\u5e03\\u4ec0\\u5c14\\u5dde\",\n",
       "                \"\\u67d4\\u4f5b\",\n",
       "                \"\\u67d4\\u4f5b\\u5dde\",\n",
       "                \"\\u7ef4\\u4e5f\\u7eb3\",\n",
       "                \"\\u827e\\u5965\\u74e6\\u5dde\",\n",
       "                \"\\u8482\\u7f57\\u5c14\",\n",
       "                \"\\u897f\\u54c8\\u52aa\\u514b\",\n",
       "                \"\\u8c6a\\u767b\",\n",
       "                \"\\u8fea\\u62dc\",\n",
       "                \"\\u9752\\u6d77\",\n",
       "                \"\\u9a6c\\u8d5b\"\n",
       "            ]\n",
       "        }\n",
       "    ],\n",
       "    \"yAxis\": [\n",
       "        {\n",
       "            \"show\": true,\n",
       "            \"scale\": false,\n",
       "            \"nameLocation\": \"end\",\n",
       "            \"nameGap\": 15,\n",
       "            \"gridIndex\": 0,\n",
       "            \"inverse\": false,\n",
       "            \"offset\": 0,\n",
       "            \"splitNumber\": 5,\n",
       "            \"minInterval\": 0,\n",
       "            \"splitLine\": {\n",
       "                \"show\": false,\n",
       "                \"lineStyle\": {\n",
       "                    \"show\": true,\n",
       "                    \"width\": 1,\n",
       "                    \"opacity\": 1,\n",
       "                    \"curveness\": 0,\n",
       "                    \"type\": \"solid\"\n",
       "                }\n",
       "            }\n",
       "        }\n",
       "    ]\n",
       "};\n",
       "                chart_4b06e5d54f094fba949d85ac330ed3ed.setOption(option_4b06e5d54f094fba949d85ac330ed3ed);\n",
       "        });\n",
       "    </script>\n"
      ],
      "text/plain": [
       "<pyecharts.render.display.HTML at 0x15c19b9bf48>"
      ]
     },
     "execution_count": 38,
     "metadata": {},
     "output_type": "execute_result"
    }
   ],
   "source": [
    "from pyecharts.charts import Bar\n",
    "name_list  = []\n",
    "for x_label in dl.province:\n",
    "    name_list.append(x_label)\n",
    "# name_list_eve = name_list[0:10]    \n",
    "num_list  = []\n",
    "for y_label in dl.province_rate:\n",
    "    num_list.append(y_label)\n",
    "# num_list_eve = num_list[0:10]\n",
    "\n",
    "bar = Bar()\n",
    "bar.add_xaxis(name_list)\n",
    "bar.add_yaxis(\"地区分布占比\",num_list)\n",
    "# render 会生成本地 HTML 文件，默认会在当前目录生成 render.html 文件\n",
    "# 也可以传入路径参数，如 bar.render(\"mycharts.html\")\n",
    "bar.render_notebook()"
   ]
  },
  {
   "cell_type": "code",
   "execution_count": 16,
   "metadata": {
    "ExecuteTime": {
     "end_time": "2020-04-26T06:21:49.316284Z",
     "start_time": "2020-04-26T06:21:49.181646Z"
    }
   },
   "outputs": [
    {
     "data": {
      "text/plain": [
       "<function matplotlib.pyplot.show(*args, **kw)>"
      ]
     },
     "execution_count": 16,
     "metadata": {},
     "output_type": "execute_result"
    },
    {
     "data": {
      "image/png": "[encoded data removed]",
      "text/plain": [
       "<Figure size 432x288 with 1 Axes>"
      ]
     },
     "metadata": {
      "needs_background": "light"
     },
     "output_type": "display_data"
    }
   ],
   "source": [
    "\n",
    "name_list  = []\n",
    "for x_label in dl.province:\n",
    "    name_list.append(x_label)\n",
    "name_list_eve = name_list[0:10]    \n",
    "num_list  = []\n",
    "for y_label in dl.province_rate:\n",
    "    num_list.append(y_label)\n",
    "num_list_eve = num_list[0:10]\n",
    "\n",
    "plt.xlabel('地区')\n",
    "plt.ylabel('占比')\n",
    "plt.xticks(rotation=45)\n",
    "plt.bar(range(len(name_list_eve)),num_list_eve,tick_label=name_list_eve)\n",
    "plt.show\n",
    "\n"
   ]
  },
  {
   "cell_type": "code",
   "execution_count": null,
   "metadata": {},
   "outputs": [],
   "source": []
  }
 ],
 "metadata": {
  "kernelspec": {
   "display_name": "Python 3",
   "language": "python",
   "name": "python3"
  },
  "language_info": {
   "codemirror_mode": {
    "name": "ipython",
    "version": 3
   },
   "file_extension": ".py",
   "mimetype": "text/x-python",
   "name": "python",
   "nbconvert_exporter": "python",
   "pygments_lexer": "ipython3",
   "version": "3.7.6"
  }
 },
 "nbformat": 4,
 "nbformat_minor": 4
}
